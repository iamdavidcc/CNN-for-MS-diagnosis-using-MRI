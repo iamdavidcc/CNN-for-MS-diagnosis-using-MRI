{
 "cells": [
  {
   "cell_type": "markdown",
   "metadata": {
    "id": "GiZNrMI5IUKl"
   },
   "source": [
    "# Libraries and Dataset\n",
    "Loading of the working dataset and the python libraries to be used"
   ]
  },
  {
   "cell_type": "code",
   "execution_count": null,
   "metadata": {
    "id": "CwoszbBNGw1b"
   },
   "outputs": [],
   "source": [
    "# import libraries\n",
    "import torch\n",
    "import numpy as np\n",
    "import cv2\n",
    "import os\n",
    "import matplotlib.pyplot as plt\n",
    "\n",
    "from torchvision import datasets\n",
    "import torchvision.transforms as transforms\n",
    "from torch.utils.data.sampler import SubsetRandomSampler"
   ]
  },
  {
   "cell_type": "code",
   "execution_count": null,
   "metadata": {
    "id": "KMvKl7x_Huo2"
   },
   "outputs": [],
   "source": [
    "# Image path - Google Drive\n",
    "data_path = \"/content/drive/MyDrive/images/ALL\""
   ]
  },
  {
   "cell_type": "markdown",
   "source": [
    "# Mean and Standard deviation calculation\n",
    "The mean and standard deviation of the set of images are calculated for subsequent standardisation of the images."
   ],
   "metadata": {
    "id": "85TV7LaWl50t"
   }
  },
  {
   "cell_type": "code",
   "execution_count": null,
   "metadata": {
    "id": "c0Cp06YVr8cM"
   },
   "outputs": [],
   "source": [
    "# Resizizing\n",
    "transform = transforms.Compose([transforms.Resize((64,64)),\n",
    "                                transforms.ToTensor()])\n",
    "# Data loading\n",
    "dataset = datasets.ImageFolder(root=data_path, transform=transform)\n",
    "dataloader = torch.utils.data.DataLoader(dataset=dataset, batch_size=128)"
   ]
  },
  {
   "cell_type": "code",
   "execution_count": null,
   "metadata": {
    "id": "P-mR_ljzr8T_"
   },
   "outputs": [],
   "source": [
    "# Mean and Standard Deviation:\n",
    "def get_mean_and_std(dataloader):\n",
    "    channels_sum, channels_squared_sum, num_batches = 0, 0, 0\n",
    "    for data, _ in dataloader:\n",
    "        # Mean over batch, height and width, but not over the channels\n",
    "        channels_sum += torch.mean(data, dim=[0,2,3])\n",
    "        channels_squared_sum += torch.mean(data**2, dim=[0,2,3])\n",
    "        num_batches += 1\n",
    "    \n",
    "    mean = channels_sum / num_batches\n",
    "    std = (channels_squared_sum / num_batches - mean ** 2) ** 0.5\n",
    "\n",
    "    return mean, std"
   ]
  },
  {
   "cell_type": "code",
   "execution_count": null,
   "metadata": {
    "id": "72COBnZHskaA"
   },
   "outputs": [],
   "source": [
    "mean, std = get_mean_and_std(dataloader)"
   ]
  },
  {
   "cell_type": "markdown",
   "source": [
    "# Resizing and standardisation\n",
    "The transformations to be carried out for each of the images in the dataset are defined:\n",
    "\n",
    "\n",
    "* Resizing - 64 x 64 images\n",
    "* Standardisation - Normalisation with mean and std\n",
    "\n"
   ],
   "metadata": {
    "id": "LgFCr3qemaAV"
   }
  },
  {
   "cell_type": "code",
   "execution_count": null,
   "metadata": {
    "id": "ac7QPOdltTkE"
   },
   "outputs": [],
   "source": [
    "transform = transforms.Compose([transforms.Resize((64,64)),\n",
    "                                transforms.ToTensor(),\n",
    "                                transforms.Normalize(mean, std)])"
   ]
  },
  {
   "cell_type": "code",
   "execution_count": null,
   "metadata": {
    "id": "OgT78tJCITJU"
   },
   "outputs": [],
   "source": [
    "data = datasets.ImageFolder(root=data_path, transform=transform)"
   ]
  },
  {
   "cell_type": "code",
   "execution_count": null,
   "metadata": {
    "id": "vinY4_QII_YX"
   },
   "outputs": [],
   "source": [
    "image, label = data[0]"
   ]
  },
  {
   "cell_type": "code",
   "execution_count": null,
   "metadata": {
    "colab": {
     "base_uri": "https://localhost:8080/"
    },
    "id": "Ee43wI8yJLgP",
    "outputId": "16861f0a-938d-460a-bd8e-96ae8948901f"
   },
   "outputs": [
    {
     "output_type": "stream",
     "name": "stdout",
     "text": [
      "torch.Size([3, 64, 64]) 0\n"
     ]
    }
   ],
   "source": [
    "# Image size and label\n",
    "print(image.shape, label)"
   ]
  },
  {
   "cell_type": "code",
   "execution_count": null,
   "metadata": {
    "id": "yUB0BQuwKAzV"
   },
   "outputs": [],
   "source": [
    "# Images classes\n",
    "classes = data.classes"
   ]
  },
  {
   "cell_type": "code",
   "execution_count": null,
   "metadata": {
    "colab": {
     "base_uri": "https://localhost:8080/",
     "height": 325
    },
    "id": "yGDA06FjKmBJ",
    "outputId": "5d34a0af-9c9c-43a4-e957-d86c43d5ce7b"
   },
   "outputs": [
    {
     "output_type": "stream",
     "name": "stderr",
     "text": [
      "WARNING:matplotlib.image:Clipping input data to the valid range for imshow with RGB data ([0..1] for floats or [0..255] for integers).\n"
     ]
    },
    {
     "output_type": "stream",
     "name": "stdout",
     "text": [
      "Label : Healthy\n"
     ]
    },
    {
     "output_type": "display_data",
     "data": {
      "text/plain": [
       "<Figure size 432x288 with 1 Axes>"
      ],
      "image/png": "[encoded data removed]"
     },
     "metadata": {
      "needs_background": "light"
     }
    }
   ],
   "source": [
    "# Display an image\n",
    "def display_img(img,label):\n",
    "    print(f\"Label : {data.classes[label]}\")\n",
    "    plt.imshow(img.permute(1,2,0), cmap='gray')\n",
    "\n",
    "# display the first image in the dataset\n",
    "display_img(*data[0])"
   ]
  },
  {
   "cell_type": "markdown",
   "source": [
    "Definition of some parameters for the model:"
   ],
   "metadata": {
    "collapsed": false
   }
  },
  {
   "cell_type": "code",
   "execution_count": null,
   "metadata": {
    "id": "_G0yCivZHw8D"
   },
   "outputs": [],
   "source": [
    "# number of subprocesses to use for data loading\n",
    "num_workers = 0\n",
    "# how many samples per batch to load\n",
    "batch_size = 32"
   ]
  },
  {
   "cell_type": "code",
   "execution_count": null,
   "metadata": {
    "id": "IB5OFa4dIbec"
   },
   "outputs": [],
   "source": [
    "dataloaders = torch.utils.data.DataLoader(data, batch_size=batch_size, \n",
    "                                          shuffle=True, num_workers=num_workers)"
   ]
  },
  {
   "cell_type": "markdown",
   "source": [
    "## Train, Validation & Test Dataset division\n",
    "The dataset is divided into three parts for training, training validation and model testing. The percentages chosen are:\n",
    " * 65% for training\n",
    "  * 15% for validation\n",
    "  * 20% for testing"
   ],
   "metadata": {
    "collapsed": false
   }
  },
  {
   "cell_type": "code",
   "execution_count": null,
   "metadata": {
    "id": "QW30YS6RIxzS"
   },
   "outputs": [],
   "source": [
    "# percentage of training set to use as Test\n",
    "test_size = 0.2\n",
    "# percentage of training set to use as validation\n",
    "valid_size = 0.15"
   ]
  },
  {
   "cell_type": "code",
   "execution_count": null,
   "metadata": {
    "id": "bE7svvyiI210"
   },
   "outputs": [],
   "source": [
    "# obtain training indices that will be used for test\n",
    "num_train = len(data)\n",
    "indices = list(range(num_train))\n",
    "np.random.shuffle(indices)\n",
    "split = int(np.floor(test_size * num_train))\n",
    "train_idx, test_idx = indices[split:], indices[:split]"
   ]
  },
  {
   "cell_type": "code",
   "execution_count": null,
   "metadata": {
    "id": "ERyOLinCI59w"
   },
   "outputs": [],
   "source": [
    "# obtain training indices that will be used for validation\n",
    "num_train = len(train_idx)\n",
    "indices = train_idx\n",
    "split2 = int(np.floor(valid_size * num_train))\n",
    "train_idx, valid_idx = indices[split2:], indices[:split2]"
   ]
  },
  {
   "cell_type": "code",
   "execution_count": null,
   "metadata": {
    "id": "h1B8gHOoI8S1"
   },
   "outputs": [],
   "source": [
    "# define samplers for obtaining training and validation batches\n",
    "train_sampler = SubsetRandomSampler(train_idx)\n",
    "valid_sampler = SubsetRandomSampler(valid_idx)\n",
    "test_sampler = SubsetRandomSampler(test_idx)"
   ]
  },
  {
   "cell_type": "code",
   "execution_count": null,
   "metadata": {
    "colab": {
     "base_uri": "https://localhost:8080/"
    },
    "id": "N1e639Jgs7SM",
    "outputId": "a63bdeda-b16f-4691-eec7-d532392c78fa"
   },
   "outputs": [
    {
     "output_type": "stream",
     "name": "stdout",
     "text": [
      "2331\n",
      "411\n",
      "685\n",
      "3427\n"
     ]
    }
   ],
   "source": [
    "# Sizes for train, validation, test and all data\n",
    "print(len(train_sampler))\n",
    "print(len(valid_sampler))\n",
    "print(len(test_sampler))\n",
    "print(len(data))"
   ]
  },
  {
   "cell_type": "code",
   "execution_count": null,
   "metadata": {
    "id": "Z18o5hQyI94c"
   },
   "outputs": [],
   "source": [
    "# prepare data loaders\n",
    "train_loader = torch.utils.data.DataLoader(data, batch_size=batch_size,\n",
    "                                           sampler=train_sampler, num_workers=num_workers)\n",
    "valid_loader = torch.utils.data.DataLoader(data, batch_size=batch_size, \n",
    "                                           sampler=valid_sampler, num_workers=num_workers)\n",
    "test_loader = torch.utils.data.DataLoader(data, batch_size=batch_size, \n",
    "                                          sampler=test_sampler, num_workers=num_workers)"
   ]
  },
  {
   "cell_type": "code",
   "execution_count": null,
   "metadata": {
    "id": "EYP8CzRVKvjz"
   },
   "outputs": [],
   "source": [
    "# Visualizing the images from a batch\n",
    "from torchvision.utils import make_grid\n",
    "import matplotlib.pyplot as plt\n",
    "\n",
    "def show_batch(dl):\n",
    "    for images, labels in dl:\n",
    "        fig,ax = plt.subplots(figsize = (16,12))\n",
    "        ax.set_xticks([])\n",
    "        ax.set_yticks([])\n",
    "        ax.imshow(make_grid(images,nrow=16).permute(1,2,0))\n",
    "        break\n",
    "        \n",
    "show_batch(train_loader)"
   ]
  },
  {
   "cell_type": "markdown",
   "metadata": {
    "id": "sBv5k6gzAPA2"
   },
   "source": [
    "# Convolutional Neural Network (CNN)\n",
    "Convolutional neural network implementation."
   ]
  },
  {
   "cell_type": "markdown",
   "metadata": {
    "id": "IwFObR0QAw6k"
   },
   "source": [
    "## Train & Validation"
   ]
  },
  {
   "cell_type": "code",
   "execution_count": null,
   "metadata": {
    "id": "flXbIzA9MSq5"
   },
   "outputs": [],
   "source": [
    "# import libraries\n",
    "import torch.nn as nn\n",
    "import torch.nn.functional as F\n",
    "\n",
    "class ImageClassificationBase(nn.Module):\n",
    "    \n",
    "    def training_step(self, batch):\n",
    "        images, labels = batch \n",
    "        out = self(images)                  # Generate predictions\n",
    "        loss = F.cross_entropy(out, labels) # Calculate loss\n",
    "        return loss\n",
    "    \n",
    "    def validation_step(self, batch):\n",
    "        images, labels = batch \n",
    "        out = self(images)                    # Generate predictions\n",
    "        loss = F.cross_entropy(out, labels)   # Calculate loss\n",
    "        acc = accuracy(out, labels)           # Calculate accuracy\n",
    "        return {'val_loss': loss.detach(), 'val_acc': acc}\n",
    "        \n",
    "    def validation_epoch_end(self, outputs):\n",
    "        batch_losses = [x['val_loss'] for x in outputs]\n",
    "        epoch_loss = torch.stack(batch_losses).mean()   # Combine losses\n",
    "        batch_accs = [x['val_acc'] for x in outputs]\n",
    "        epoch_acc = torch.stack(batch_accs).mean()      # Combine accuracies\n",
    "        return {'val_loss': epoch_loss.item(), 'val_acc': epoch_acc.item()}\n",
    "    \n",
    "    def epoch_end(self, epoch, result):\n",
    "        print(\"Epoch [{}], train_loss: {:.4f}, val_loss: {:.4f}, val_acc: {:.4f}\".format(\n",
    "            epoch+1, result['train_loss'], result['val_loss'], result['val_acc']))"
   ]
  },
  {
   "cell_type": "markdown",
   "metadata": {
    "id": "lumm7EnLBBpY"
   },
   "source": [
    "CNN-Architecture"
   ]
  },
  {
   "cell_type": "code",
   "execution_count": null,
   "metadata": {
    "id": "1qzeRiRqAuY6"
   },
   "outputs": [],
   "source": [
    "class MSClassification(ImageClassificationBase):\n",
    "    def __init__(self):\n",
    "        super().__init__()\n",
    "        self.network = nn.Sequential(\n",
    "            # CNN-side\n",
    "            # 1. Layer\n",
    "            nn.Conv2d(3, 64, kernel_size = 3, stride = 1, padding = 1),\n",
    "            nn.BatchNorm2d(64),\n",
    "            nn.ReLU(inplace=True),\n",
    "            # 2. Layer\n",
    "            nn.Conv2d(64, 64, kernel_size = 3, stride = 1, padding = 1),\n",
    "            nn.BatchNorm2d(64),\n",
    "            nn.ReLU(inplace=True),\n",
    "            nn.MaxPool2d(2, 2),\n",
    "            # 3. Layer\n",
    "            nn.Conv2d(64, 64, kernel_size = 3, stride = 1, padding = 1),\n",
    "            nn.BatchNorm2d(64),\n",
    "            nn.ReLU(inplace=True),\n",
    "            # 4. Layer\n",
    "            nn.Conv2d(64, 64, kernel_size = 3, stride = 1, padding = 1),\n",
    "            nn.BatchNorm2d(64),\n",
    "            nn.ReLU(inplace=True),\n",
    "            # 5. Layer\n",
    "            nn.Conv2d(64, 64, kernel_size = 3, stride = 1, padding = 1),\n",
    "            nn.BatchNorm2d(64),\n",
    "            nn.ReLU(inplace=True),\n",
    "            nn.MaxPool2d(2, 2),\n",
    "            # Fully-connected side\n",
    "            nn.Flatten(),\n",
    "            nn.Linear(16384,1024),\n",
    "            nn.BatchNorm1d(1024),\n",
    "            nn.ReLU(inplace=True),\n",
    "            nn.Dropout(0.5),\n",
    "            nn.Linear(1024, 512),\n",
    "            nn.BatchNorm1d(512),\n",
    "            nn.ReLU(inplace=True),\n",
    "            nn.Dropout(0.5),\n",
    "            nn.Linear(512, 256),\n",
    "            nn.BatchNorm1d(256),\n",
    "            nn.ReLU(inplace=True),\n",
    "            nn.Dropout(0.5),\n",
    "            nn.Linear(256,2),\n",
    "        )\n",
    "    \n",
    "    def forward(self, xb):\n",
    "        return self.network(xb)"
   ]
  },
  {
   "cell_type": "markdown",
   "metadata": {
    "id": "FEfcLhrmBHKg"
   },
   "source": [
    "Hyperparameters, training and model evaluation:"
   ]
  },
  {
   "cell_type": "code",
   "execution_count": null,
   "metadata": {
    "id": "U015K0fEBElO"
   },
   "outputs": [],
   "source": [
    "def accuracy(outputs, labels):\n",
    "    _, preds = torch.max(outputs, dim=1)\n",
    "    return torch.tensor(torch.sum(preds == labels).item() / len(preds))\n",
    "\n",
    "  \n",
    "@torch.no_grad()\n",
    "def evaluate(model, val_loader):\n",
    "    model.eval()\n",
    "    outputs = [model.validation_step(batch) for batch in val_loader]\n",
    "    return model.validation_epoch_end(outputs)\n",
    "\n",
    "  \n",
    "def fit(epochs, lr, model, train_loader, val_loader):\n",
    "    history = []\n",
    "    optimizer = torch.optim.Adam(model.parameters(),lr, weight_decay=1e-6)\n",
    "    for epoch in range(epochs):\n",
    "        \n",
    "        model.train()\n",
    "        train_losses = []\n",
    "        for batch in train_loader:\n",
    "            loss = model.training_step(batch)\n",
    "            train_losses.append(loss)\n",
    "            loss.backward()\n",
    "            optimizer.step()\n",
    "            optimizer.zero_grad()\n",
    "            \n",
    "        result = evaluate(model, val_loader)\n",
    "        result['train_loss'] = torch.stack(train_losses).mean().item()\n",
    "        model.epoch_end(epoch, result)\n",
    "        history.append(result)\n",
    "    \n",
    "    return history"
   ]
  },
  {
   "cell_type": "markdown",
   "metadata": {
    "id": "3qvM25edBQt6"
   },
   "source": [
    "Implemented model:"
   ]
  },
  {
   "cell_type": "code",
   "execution_count": null,
   "metadata": {
    "colab": {
     "base_uri": "https://localhost:8080/"
    },
    "id": "XhFdbc4NB6eB",
    "outputId": "b150425a-78d2-44d3-85ac-096cde70baee"
   },
   "outputs": [
    {
     "output_type": "execute_result",
     "data": {
      "text/plain": [
       "MSClassification(\n",
       "  (network): Sequential(\n",
       "    (0): Conv2d(3, 64, kernel_size=(3, 3), stride=(1, 1), padding=(1, 1))\n",
       "    (1): BatchNorm2d(64, eps=1e-05, momentum=0.1, affine=True, track_running_stats=True)\n",
       "    (2): ReLU(inplace=True)\n",
       "    (3): Conv2d(64, 64, kernel_size=(3, 3), stride=(1, 1), padding=(1, 1))\n",
       "    (4): BatchNorm2d(64, eps=1e-05, momentum=0.1, affine=True, track_running_stats=True)\n",
       "    (5): ReLU(inplace=True)\n",
       "    (6): MaxPool2d(kernel_size=2, stride=2, padding=0, dilation=1, ceil_mode=False)\n",
       "    (7): Conv2d(64, 64, kernel_size=(3, 3), stride=(1, 1), padding=(1, 1))\n",
       "    (8): BatchNorm2d(64, eps=1e-05, momentum=0.1, affine=True, track_running_stats=True)\n",
       "    (9): ReLU(inplace=True)\n",
       "    (10): Conv2d(64, 64, kernel_size=(3, 3), stride=(1, 1), padding=(1, 1))\n",
       "    (11): BatchNorm2d(64, eps=1e-05, momentum=0.1, affine=True, track_running_stats=True)\n",
       "    (12): ReLU(inplace=True)\n",
       "    (13): Conv2d(64, 64, kernel_size=(3, 3), stride=(1, 1), padding=(1, 1))\n",
       "    (14): BatchNorm2d(64, eps=1e-05, momentum=0.1, affine=True, track_running_stats=True)\n",
       "    (15): ReLU(inplace=True)\n",
       "    (16): MaxPool2d(kernel_size=2, stride=2, padding=0, dilation=1, ceil_mode=False)\n",
       "    (17): Flatten(start_dim=1, end_dim=-1)\n",
       "    (18): Linear(in_features=16384, out_features=1024, bias=True)\n",
       "    (19): BatchNorm1d(1024, eps=1e-05, momentum=0.1, affine=True, track_running_stats=True)\n",
       "    (20): ReLU(inplace=True)\n",
       "    (21): Dropout(p=0.5, inplace=False)\n",
       "    (22): Linear(in_features=1024, out_features=512, bias=True)\n",
       "    (23): BatchNorm1d(512, eps=1e-05, momentum=0.1, affine=True, track_running_stats=True)\n",
       "    (24): ReLU(inplace=True)\n",
       "    (25): Dropout(p=0.5, inplace=False)\n",
       "    (26): Linear(in_features=512, out_features=256, bias=True)\n",
       "    (27): BatchNorm1d(256, eps=1e-05, momentum=0.1, affine=True, track_running_stats=True)\n",
       "    (28): ReLU(inplace=True)\n",
       "    (29): Dropout(p=0.5, inplace=False)\n",
       "    (30): Linear(in_features=256, out_features=2, bias=True)\n",
       "  )\n",
       ")"
      ]
     },
     "metadata": {},
     "execution_count": 28
    }
   ],
   "source": [
    "model = MSClassification()\n",
    "model"
   ]
  },
  {
   "cell_type": "markdown",
   "metadata": {
    "id": "NK_AxeWsL2Fm"
   },
   "source": [
    "If available, the GPU is used to train the model:"
   ]
  },
  {
   "cell_type": "code",
   "execution_count": null,
   "metadata": {
    "id": "tifaPnGDL5Hi"
   },
   "outputs": [],
   "source": [
    "def get_default_device():\n",
    "    \"\"\" Set Device to GPU or CPU\"\"\"\n",
    "    if torch.cuda.is_available():\n",
    "        return torch.device('cuda')\n",
    "    else:\n",
    "        return torch.device('cpu')\n",
    "    \n",
    "\n",
    "def to_device(data, device):\n",
    "    \"Move data to the device\"\n",
    "    if isinstance(data,(list,tuple)):\n",
    "        return [to_device(x,device) for x in data]\n",
    "    return data.to(device,non_blocking = True)\n",
    "\n",
    "class DeviceDataLoader():\n",
    "    \"\"\" Wrap a dataloader to move data to a device \"\"\"\n",
    "    \n",
    "    def __init__(self, dl, device):\n",
    "        self.dl = dl\n",
    "        self.device = device\n",
    "    \n",
    "    def __iter__(self):\n",
    "        \"\"\" Yield a batch of data after moving it to device\"\"\"\n",
    "        for b in self.dl:\n",
    "            yield to_device(b,self.device)\n",
    "            \n",
    "    def __len__(self):\n",
    "        \"\"\" Number of batches \"\"\"\n",
    "        return len(self.dl)"
   ]
  },
  {
   "cell_type": "markdown",
   "source": [
    "What device is used?"
   ],
   "metadata": {
    "id": "bBvk4N7WpHnL"
   }
  },
  {
   "cell_type": "code",
   "execution_count": null,
   "metadata": {
    "colab": {
     "base_uri": "https://localhost:8080/"
    },
    "id": "kvve-rjGL5FT",
    "outputId": "472dab8a-2d3c-47d8-b308-991b08d585d7"
   },
   "outputs": [
    {
     "output_type": "execute_result",
     "data": {
      "text/plain": [
       "device(type='cpu')"
      ]
     },
     "metadata": {},
     "execution_count": 30
    }
   ],
   "source": [
    "device = get_default_device()\n",
    "device"
   ]
  },
  {
   "cell_type": "markdown",
   "source": [
    "Uploading the files for training:"
   ],
   "metadata": {
    "id": "VLORgXXDpPR0"
   }
  },
  {
   "cell_type": "code",
   "execution_count": null,
   "metadata": {
    "colab": {
     "base_uri": "https://localhost:8080/"
    },
    "id": "wecIZSQLL5CS",
    "outputId": "daf0a33d-e9ec-41d6-9d94-69de1bcb4d0d"
   },
   "outputs": [
    {
     "output_type": "execute_result",
     "data": {
      "text/plain": [
       "MSClassification(\n",
       "  (network): Sequential(\n",
       "    (0): Conv2d(3, 64, kernel_size=(3, 3), stride=(1, 1), padding=(1, 1))\n",
       "    (1): BatchNorm2d(64, eps=1e-05, momentum=0.1, affine=True, track_running_stats=True)\n",
       "    (2): ReLU(inplace=True)\n",
       "    (3): Conv2d(64, 64, kernel_size=(3, 3), stride=(1, 1), padding=(1, 1))\n",
       "    (4): BatchNorm2d(64, eps=1e-05, momentum=0.1, affine=True, track_running_stats=True)\n",
       "    (5): ReLU(inplace=True)\n",
       "    (6): MaxPool2d(kernel_size=2, stride=2, padding=0, dilation=1, ceil_mode=False)\n",
       "    (7): Conv2d(64, 64, kernel_size=(3, 3), stride=(1, 1), padding=(1, 1))\n",
       "    (8): BatchNorm2d(64, eps=1e-05, momentum=0.1, affine=True, track_running_stats=True)\n",
       "    (9): ReLU(inplace=True)\n",
       "    (10): Conv2d(64, 64, kernel_size=(3, 3), stride=(1, 1), padding=(1, 1))\n",
       "    (11): BatchNorm2d(64, eps=1e-05, momentum=0.1, affine=True, track_running_stats=True)\n",
       "    (12): ReLU(inplace=True)\n",
       "    (13): Conv2d(64, 64, kernel_size=(3, 3), stride=(1, 1), padding=(1, 1))\n",
       "    (14): BatchNorm2d(64, eps=1e-05, momentum=0.1, affine=True, track_running_stats=True)\n",
       "    (15): ReLU(inplace=True)\n",
       "    (16): MaxPool2d(kernel_size=2, stride=2, padding=0, dilation=1, ceil_mode=False)\n",
       "    (17): Flatten(start_dim=1, end_dim=-1)\n",
       "    (18): Linear(in_features=16384, out_features=1024, bias=True)\n",
       "    (19): BatchNorm1d(1024, eps=1e-05, momentum=0.1, affine=True, track_running_stats=True)\n",
       "    (20): ReLU(inplace=True)\n",
       "    (21): Dropout(p=0.5, inplace=False)\n",
       "    (22): Linear(in_features=1024, out_features=512, bias=True)\n",
       "    (23): BatchNorm1d(512, eps=1e-05, momentum=0.1, affine=True, track_running_stats=True)\n",
       "    (24): ReLU(inplace=True)\n",
       "    (25): Dropout(p=0.5, inplace=False)\n",
       "    (26): Linear(in_features=512, out_features=256, bias=True)\n",
       "    (27): BatchNorm1d(256, eps=1e-05, momentum=0.1, affine=True, track_running_stats=True)\n",
       "    (28): ReLU(inplace=True)\n",
       "    (29): Dropout(p=0.5, inplace=False)\n",
       "    (30): Linear(in_features=256, out_features=2, bias=True)\n",
       "  )\n",
       ")"
      ]
     },
     "metadata": {},
     "execution_count": 31
    }
   ],
   "source": [
    "# load data\n",
    "train_loader = DeviceDataLoader(train_loader, device)\n",
    "valid_loader = DeviceDataLoader(valid_loader, device)\n",
    "to_device(model, device)"
   ]
  },
  {
   "cell_type": "code",
   "execution_count": null,
   "metadata": {
    "id": "eICwqTIwL4_u"
   },
   "outputs": [],
   "source": [
    "#load the model to the device\n",
    "model = to_device(MSClassification(),device)"
   ]
  },
  {
   "cell_type": "markdown",
   "source": [
    "The number of training _epochs_ and the _learning rate_ are set:"
   ],
   "metadata": {
    "id": "c5udd7_CpVH1"
   }
  },
  {
   "cell_type": "code",
   "execution_count": null,
   "metadata": {
    "id": "w06WtGXCMT22"
   },
   "outputs": [],
   "source": [
    "#set the no. of epochs and learning rate\n",
    "num_epochs = 50\n",
    "lr = 0.001"
   ]
  },
  {
   "cell_type": "markdown",
   "source": [
    "## Model training process\n",
    "During the training process the training losses as well as the validation losses are shown.\n",
    "In addition, the accuracy for the validation data during the process is shown. In this way the performance of the model can be evaluated in real time."
   ],
   "metadata": {
    "id": "9Tuy_bs0pbOR"
   }
  },
  {
   "cell_type": "code",
   "execution_count": null,
   "metadata": {
    "colab": {
     "base_uri": "https://localhost:8080/"
    },
    "id": "Od7lbER8MTu4",
    "outputId": "4f28608b-5da9-41ba-baef-dc954e58d85a"
   },
   "outputs": [
    {
     "output_type": "stream",
     "name": "stdout",
     "text": [
      "Epoch [1], train_loss: 0.5130, val_loss: 0.7842, val_acc: 0.7152\n",
      "Epoch [2], train_loss: 0.3204, val_loss: 0.4343, val_acc: 0.7804\n",
      "Epoch [3], train_loss: 0.2594, val_loss: 1.0420, val_acc: 0.6546\n",
      "Epoch [4], train_loss: 0.2479, val_loss: 0.3354, val_acc: 0.8420\n",
      "Epoch [5], train_loss: 0.1912, val_loss: 0.1969, val_acc: 0.9202\n",
      "Epoch [6], train_loss: 0.1893, val_loss: 0.1382, val_acc: 0.9550\n",
      "Epoch [7], train_loss: 0.1385, val_loss: 0.1090, val_acc: 0.9486\n",
      "Epoch [8], train_loss: 0.1324, val_loss: 0.1535, val_acc: 0.9506\n",
      "Epoch [9], train_loss: 0.1119, val_loss: 0.1374, val_acc: 0.9443\n",
      "Epoch [10], train_loss: 0.1097, val_loss: 0.4077, val_acc: 0.8372\n",
      "Epoch [11], train_loss: 0.1201, val_loss: 0.2168, val_acc: 0.9169\n",
      "Epoch [12], train_loss: 0.1288, val_loss: 0.1397, val_acc: 0.9423\n",
      "Epoch [13], train_loss: 0.0993, val_loss: 0.1753, val_acc: 0.9274\n",
      "Epoch [14], train_loss: 0.0772, val_loss: 0.0992, val_acc: 0.9712\n",
      "Epoch [15], train_loss: 0.0752, val_loss: 0.1114, val_acc: 0.9615\n",
      "Epoch [16], train_loss: 0.0715, val_loss: 0.0989, val_acc: 0.9491\n",
      "Epoch [17], train_loss: 0.0618, val_loss: 0.6877, val_acc: 0.7517\n",
      "Epoch [18], train_loss: 0.0695, val_loss: 0.1318, val_acc: 0.9510\n",
      "Epoch [19], train_loss: 0.0659, val_loss: 0.1358, val_acc: 0.9534\n",
      "Epoch [20], train_loss: 0.0666, val_loss: 0.1549, val_acc: 0.9582\n",
      "Epoch [21], train_loss: 0.0635, val_loss: 0.5167, val_acc: 0.7858\n",
      "Epoch [22], train_loss: 0.0552, val_loss: 0.0993, val_acc: 0.9639\n",
      "Epoch [23], train_loss: 0.0477, val_loss: 0.1037, val_acc: 0.9558\n",
      "Epoch [24], train_loss: 0.0338, val_loss: 0.0778, val_acc: 0.9703\n",
      "Epoch [25], train_loss: 0.0315, val_loss: 0.1898, val_acc: 0.9342\n",
      "Epoch [26], train_loss: 0.0519, val_loss: 0.3825, val_acc: 0.8684\n",
      "Epoch [27], train_loss: 0.0688, val_loss: 0.0878, val_acc: 0.9639\n",
      "Epoch [28], train_loss: 0.0456, val_loss: 0.1114, val_acc: 0.9679\n",
      "Epoch [29], train_loss: 0.0388, val_loss: 0.0960, val_acc: 0.9703\n",
      "Epoch [30], train_loss: 0.0370, val_loss: 0.0751, val_acc: 0.9727\n",
      "Epoch [31], train_loss: 0.0209, val_loss: 0.1155, val_acc: 0.9558\n",
      "Epoch [32], train_loss: 0.0420, val_loss: 0.1262, val_acc: 0.9482\n",
      "Epoch [33], train_loss: 0.0326, val_loss: 0.1010, val_acc: 0.9659\n",
      "Epoch [34], train_loss: 0.0336, val_loss: 0.0569, val_acc: 0.9659\n",
      "Epoch [35], train_loss: 0.0301, val_loss: 0.1106, val_acc: 0.9510\n",
      "Epoch [36], train_loss: 0.0971, val_loss: 0.9831, val_acc: 0.6692\n",
      "Epoch [37], train_loss: 0.0370, val_loss: 0.1199, val_acc: 0.9567\n",
      "Epoch [38], train_loss: 0.0133, val_loss: 0.0594, val_acc: 0.9755\n",
      "Epoch [39], train_loss: 0.0159, val_loss: 0.0716, val_acc: 0.9760\n",
      "Epoch [40], train_loss: 0.0148, val_loss: 0.3737, val_acc: 0.8892\n",
      "Epoch [41], train_loss: 0.0295, val_loss: 0.1289, val_acc: 0.9635\n",
      "Epoch [42], train_loss: 0.0253, val_loss: 0.1524, val_acc: 0.9510\n",
      "Epoch [43], train_loss: 0.0358, val_loss: 0.1011, val_acc: 0.9712\n",
      "Epoch [44], train_loss: 0.0170, val_loss: 0.0563, val_acc: 0.9832\n",
      "Epoch [45], train_loss: 0.0158, val_loss: 0.1414, val_acc: 0.9534\n",
      "Epoch [46], train_loss: 0.0257, val_loss: 0.1250, val_acc: 0.9615\n",
      "Epoch [47], train_loss: 0.0122, val_loss: 0.0610, val_acc: 0.9698\n",
      "Epoch [48], train_loss: 0.0178, val_loss: 0.0740, val_acc: 0.9707\n",
      "Epoch [49], train_loss: 0.0229, val_loss: 0.0850, val_acc: 0.9683\n",
      "Epoch [50], train_loss: 0.0133, val_loss: 0.0478, val_acc: 0.9856\n"
     ]
    }
   ],
   "source": [
    "#fitting the model on training data and record the result after each epoch\n",
    "history = fit(num_epochs, lr, model, train_loader, valid_loader)"
   ]
  },
  {
   "cell_type": "markdown",
   "source": [
    "The graph of the evolution of accuracy as a function of the number of _epochs_ is obtained:"
   ],
   "metadata": {
    "id": "Sz8zXkQWpezj"
   }
  },
  {
   "cell_type": "code",
   "execution_count": null,
   "metadata": {
    "id": "S6YkzzqiQNaD",
    "colab": {
     "base_uri": "https://localhost:8080/",
     "height": 295
    },
    "outputId": "ae83baf2-3704-4d26-81e9-f04987e6553e"
   },
   "outputs": [
    {
     "output_type": "display_data",
     "data": {
      "text/plain": [
       "<Figure size 432x288 with 1 Axes>"
      ],
      "image/png": "[encoded data removed]"
     },
     "metadata": {
      "needs_background": "light"
     }
    }
   ],
   "source": [
    "def plot_accuracies(history):\n",
    "    \"\"\" Plot the history of accuracies\"\"\"\n",
    "    accuracies = [x['val_acc'] for x in history]\n",
    "    plt.plot(accuracies, '-x')\n",
    "    plt.xlabel('epoch')\n",
    "    plt.ylabel('accuracy')\n",
    "    plt.title('Accuracy vs. No. of epochs');\n",
    "    \n",
    "plot_accuracies(history)"
   ]
  },
  {
   "cell_type": "markdown",
   "source": [
    "The graph of the evolution of the loss function as a function of the number of _epochs_ is obtained:"
   ],
   "metadata": {
    "id": "RrDAzM6ZpmKk"
   }
  },
  {
   "cell_type": "code",
   "execution_count": null,
   "metadata": {
    "id": "ZV1S9wp9QQcI",
    "colab": {
     "base_uri": "https://localhost:8080/",
     "height": 295
    },
    "outputId": "b3931b86-2fc8-46c4-e709-9f0c425d8030"
   },
   "outputs": [
    {
     "output_type": "display_data",
     "data": {
      "text/plain": [
       "<Figure size 432x288 with 1 Axes>"
      ],
      "image/png": "[encoded data removed]"
     },
     "metadata": {
      "needs_background": "light"
     }
    }
   ],
   "source": [
    "def plot_losses(history):\n",
    "    \"\"\" Plot the losses in each epoch\"\"\"\n",
    "    train_losses = [x.get('train_loss') for x in history]\n",
    "    val_losses = [x['val_loss'] for x in history]\n",
    "    plt.plot(train_losses, '-bx')\n",
    "    plt.plot(val_losses, '-rx')\n",
    "    plt.xlabel('epoch')\n",
    "    plt.ylabel('loss')\n",
    "    plt.legend(['Training', 'Validation'])\n",
    "    plt.title('Loss vs. No. of epochs');\n",
    "\n",
    "plot_losses(history)"
   ]
  },
  {
   "cell_type": "markdown",
   "source": [
    "## Evaluation / Test of the model\n",
    "At the end of the training process, the model is tested with \"new\" data.\n",
    "In this way, an evaluation of the performance of the implemented model is obtained."
   ],
   "metadata": {
    "id": "H3aaNBTOptGU"
   }
  },
  {
   "cell_type": "code",
   "execution_count": null,
   "metadata": {
    "id": "bma5qA6cQTn2",
    "colab": {
     "base_uri": "https://localhost:8080/"
    },
    "outputId": "bbf40a96-43be-42d9-dcc9-2e9281bfbfc4"
   },
   "outputs": [
    {
     "output_type": "execute_result",
     "data": {
      "text/plain": [
       "{'val_loss': 0.0944800153374672, 'val_acc': 0.9715909361839294}"
      ]
     },
     "metadata": {},
     "execution_count": 40
    }
   ],
   "source": [
    "# Apply the model on test dataset and Get the results\n",
    "test_loader = DeviceDataLoader(test_loader, device)\n",
    "result = evaluate(model, test_loader)\n",
    "result"
   ]
  },
  {
   "cell_type": "markdown",
   "source": [
    "### Evaluation metrics:\n",
    "Model predictions and corresponding labels are obtained first."
   ],
   "metadata": {
    "id": "EWL79FGOpxnE"
   }
  },
  {
   "cell_type": "code",
   "execution_count": null,
   "metadata": {
    "id": "7KeTLr61t2mF"
   },
   "outputs": [],
   "source": [
    "from sklearn.metrics import confusion_matrix\n",
    "import seaborn as sn\n",
    "import pandas as pd\n",
    "\n",
    "y_pred = []\n",
    "y_true = []\n",
    "\n",
    "# iterate over test data\n",
    "for inputs, labels in test_loader:\n",
    "        output = model(inputs) # Feed Network\n",
    "\n",
    "        output = (torch.max(torch.exp(output), 1)[1]).data.cpu().numpy()\n",
    "        y_pred.extend(output) # Save Prediction\n",
    "        \n",
    "        labels = labels.data.cpu().numpy()\n",
    "        y_true.extend(labels) # Save Truth"
   ]
  },
  {
   "cell_type": "markdown",
   "source": [
    "#### Confusion matrix"
   ],
   "metadata": {
    "id": "x-G7Q4y-p_gM"
   }
  },
  {
   "cell_type": "code",
   "execution_count": null,
   "metadata": {
    "id": "KvXT22jWyMpz",
    "colab": {
     "base_uri": "https://localhost:8080/",
     "height": 603
    },
    "outputId": "51fcec39-8b1b-4deb-c38a-0ca0216e6409"
   },
   "outputs": [
    {
     "output_type": "execute_result",
     "data": {
      "text/plain": [
       "(Text(0.5, 1.0, 'Confusion Matrix'), None)"
      ]
     },
     "metadata": {},
     "execution_count": 42
    },
    {
     "output_type": "display_data",
     "data": {
      "text/plain": [
       "<Figure size 576x576 with 1 Axes>"
      ],
      "image/png": "[encoded data removed]"
     },
     "metadata": {
      "needs_background": "light"
     }
    }
   ],
   "source": [
    "# constant for classes\n",
    "classes = ('Healthy', 'EM')\n",
    "plt.figure(figsize = (8,8))\n",
    "# Build confusion matrix\n",
    "cf_matrix = confusion_matrix(y_true, y_pred)\n",
    "df_cm = pd.DataFrame(cf_matrix, index=classes, columns=classes)\n",
    "sn.heatmap(df_cm, annot=True, cbar=None, cmap=\"Blues\", fmt=\"d\")\n",
    "plt.title(\"Confusion Matrix\"), plt.tight_layout()"
   ]
  },
  {
   "cell_type": "markdown",
   "source": [
    "#### Model classification results:"
   ],
   "metadata": {
    "id": "XEE9ciG0qDuK"
   }
  },
  {
   "cell_type": "code",
   "execution_count": null,
   "metadata": {
    "id": "6DSJA2O8t2YG",
    "colab": {
     "base_uri": "https://localhost:8080/"
    },
    "outputId": "8cd3616c-2d75-4920-eb36-1e5f89a9d487"
   },
   "outputs": [
    {
     "output_type": "stream",
     "name": "stdout",
     "text": [
      "              precision    recall  f1-score   support\n",
      "\n",
      "     Healthy       0.98      0.97      0.97       397\n",
      "          EM       0.96      0.97      0.97       288\n",
      "\n",
      "    accuracy                           0.97       685\n",
      "   macro avg       0.97      0.97      0.97       685\n",
      "weighted avg       0.97      0.97      0.97       685\n",
      "\n"
     ]
    }
   ],
   "source": [
    "from sklearn.metrics import classification_report\n",
    "print(classification_report(y_true, y_pred, target_names=classes))"
   ]
  }
 ],
 "metadata": {
  "accelerator": "GPU",
  "colab": {
   "provenance": []
  },
  "gpuClass": "standard",
  "kernelspec": {
   "display_name": "Python 3",
   "name": "python3"
  },
  "language_info": {
   "name": "python"
  }
 },
 "nbformat": 4,
 "nbformat_minor": 0
}
